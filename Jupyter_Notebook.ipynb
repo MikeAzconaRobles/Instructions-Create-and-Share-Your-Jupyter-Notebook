{
 "cells": [
  {
   "cell_type": "markdown",
   "metadata": {},
   "source": [
    "<center>\n",
    "    <img src=\"https://cf-courses-data.s3.us.cloud-object-storage.appdomain.cloud/IBMDeveloperSkillsNetwork-DS0105EN-SkillsNetwork/labs/Module2/images/SN_web_lightmode.png\" width=\"300\" alt=\"cognitiveclass.ai logo\">\n",
    "</center>\n"
   ]
  },
  {
   "cell_type": "markdown",
   "metadata": {},
   "source": [
    "#### Add your code below following the instructions given in the course\n"
   ]
  },
  {
   "cell_type": "markdown",
   "metadata": {},
   "source": [
    "# My Jupyter Notebook on IBM Watson Studio"
   ]
  },
  {
   "cell_type": "markdown",
   "metadata": {},
   "source": [
    "__Miguel Ángel Azcona Robles__\n",
    "\n",
    "my current occupation is a data analyst and quality engineer "
   ]
  },
  {
   "cell_type": "markdown",
   "metadata": {},
   "source": [
    "_I'm interested in learning data science because it is a mean to enrich my professional abilities towards better career opportunities_"
   ]
  },
  {
   "cell_type": "markdown",
   "metadata": {},
   "source": [
    "### next, I will perform some simple trials of coding, like adding, dividing couting characters, it will be described in the next lines"
   ]
  },
  {
   "cell_type": "markdown",
   "metadata": {},
   "source": [
    "1) basic output"
   ]
  },
  {
   "cell_type": "code",
   "execution_count": 1,
   "metadata": {},
   "outputs": [
    {
     "data": {
      "text/plain": [
       "2"
      ]
     },
     "execution_count": 1,
     "metadata": {},
     "output_type": "execute_result"
    }
   ],
   "source": [
    "1+1"
   ]
  },
  {
   "cell_type": "code",
   "execution_count": 3,
   "metadata": {},
   "outputs": [
    {
     "name": "stdout",
     "output_type": "stream",
     "text": [
      "welcome to the first jupyter notebook\n"
     ]
    }
   ],
   "source": [
    "print (\"welcome to the first jupyter notebook\")"
   ]
  },
  {
   "cell_type": "markdown",
   "metadata": {},
   "source": [
    "2. inserting variables in a string"
   ]
  },
  {
   "cell_type": "code",
   "execution_count": 4,
   "metadata": {},
   "outputs": [
    {
     "name": "stdin",
     "output_type": "stream",
     "text": [
      "Hello, what is your name? Mike\n"
     ]
    },
    {
     "name": "stdout",
     "output_type": "stream",
     "text": [
      "Hello, Mike ready to start!\n"
     ]
    }
   ],
   "source": [
    "person= input(\"Hello, what is your name?\")\n",
    "message =\"Hello, {} ready to start!\".format(person)\n",
    "print(message)"
   ]
  },
  {
   "cell_type": "markdown",
   "metadata": {},
   "source": [
    "3. multiline and string extentions"
   ]
  },
  {
   "cell_type": "code",
   "execution_count": 11,
   "metadata": {},
   "outputs": [
    {
     "name": "stdout",
     "output_type": "stream",
     "text": [
      "There was upon a time in Mexico a hippie bear that loved to eat Costco's pizza\n",
      "78\n"
     ]
    }
   ],
   "source": [
    "story = \"There was upon a time in Mexico a hippie bear that loved to eat Costco's pizza\"\n",
    "print (story)\n",
    "print(len(story))"
   ]
  },
  {
   "cell_type": "markdown",
   "metadata": {},
   "source": [
    "4. simple math operations"
   ]
  },
  {
   "cell_type": "code",
   "execution_count": 12,
   "metadata": {},
   "outputs": [
    {
     "name": "stdout",
     "output_type": "stream",
     "text": [
      "3.846153846153846\n",
      "1.9999999999999996\n"
     ]
    }
   ],
   "source": [
    "x=5\n",
    "y=2.6\n",
    "z=(x*2)/y\n",
    "m=(x*3)%y #modulo regresa el residuo\n",
    "print(z)\n",
    "print(m)"
   ]
  },
  {
   "cell_type": "markdown",
   "metadata": {},
   "source": [
    "***\n",
    "\n",
    "- Main bullet \n",
    "     - Sub bullet \n",
    "     - sub bullet 2\n",
    "     \n",
    "1. Numbered list\n",
    "     1. Substep\n",
    "     2. substep\n",
    "     \n",
    "Go to youtube ==> __[link text](https://www.youtube.com/watch?v=RzkD_rTEBYs&list=PLdL1ul_0fIqfyZXU1-Cp76_cPg_NB6VDN&index=1)__\n",
    "\n",
    "<img src=\"https://img.youtube.com/vi/RzkD_rTEBYs/mqdefault.jpg\" alt=\"Explore the current limitations of artificial intelligence and the possibility of creating human-compatible technology.\" title=\"How will AI change the world?\" />"
   ]
  },
  {
   "cell_type": "code",
   "execution_count": null,
   "metadata": {},
   "outputs": [],
   "source": []
  }
 ],
 "metadata": {
  "kernelspec": {
   "display_name": "Python",
   "language": "python",
   "name": "conda-env-python-py"
  },
  "language_info": {
   "codemirror_mode": {
    "name": "ipython",
    "version": 3
   },
   "file_extension": ".py",
   "mimetype": "text/x-python",
   "name": "python",
   "nbconvert_exporter": "python",
   "pygments_lexer": "ipython3",
   "version": "3.7.12"
  }
 },
 "nbformat": 4,
 "nbformat_minor": 4
}
